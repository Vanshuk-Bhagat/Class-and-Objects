{
 "cells": [
  {
   "cell_type": "code",
   "execution_count": null,
   "id": "38ec75ee-def0-4e51-9196-94d692a90938",
   "metadata": {},
   "outputs": [],
   "source": [
    "#Example of class and objects"
   ]
  },
  {
   "cell_type": "code",
   "execution_count": 18,
   "id": "b60519db-8c2d-47b9-b5b7-829956c93157",
   "metadata": {},
   "outputs": [],
   "source": [
    "class Phone:\n",
    "    \n",
    "    def set_color(self,color):\n",
    "        self.color=color\n",
    "\n",
    "    def set_cost(self,cost):\n",
    "         self.cost=cost\n",
    "\n",
    "    def show_color(self):\n",
    "        return self.color\n",
    "\n",
    "    def show_cost(self):\n",
    "        return self.cost\n",
    "        \n",
    "    def make_call(self):\n",
    "        print(\"Make a call\")\n",
    "        \n",
    "    def play_game(self):\n",
    "        print(\"Playing game\")\n",
    "    \n",
    "  \n",
    "           \n",
    "           \n",
    "             "
   ]
  },
  {
   "cell_type": "code",
   "execution_count": 19,
   "id": "37eb9dfa-4ea2-4a42-a7d8-f16281673631",
   "metadata": {},
   "outputs": [],
   "source": [
    "  p1 = Phone()"
   ]
  },
  {
   "cell_type": "code",
   "execution_count": 22,
   "id": "d04fe6af-ece6-4d48-9417-7a3283b3d389",
   "metadata": {},
   "outputs": [
    {
     "name": "stdout",
     "output_type": "stream",
     "text": [
      "Make a call\n",
      "Playing game\n"
     ]
    }
   ],
   "source": [
    "p1.make_call()\n",
    "p1.play_game()"
   ]
  },
  {
   "cell_type": "code",
   "execution_count": 17,
   "id": "53f81507-8871-4232-94af-246c318d0d02",
   "metadata": {},
   "outputs": [
    {
     "data": {
      "text/plain": [
       "'blue'"
      ]
     },
     "execution_count": 17,
     "metadata": {},
     "output_type": "execute_result"
    }
   ],
   "source": [
    "p1.set_color(\"blue\")\n",
    "p1.show_color()\n",
    "\n",
    "\n"
   ]
  },
  {
   "cell_type": "code",
   "execution_count": 23,
   "id": "42ccb789-e902-45f9-afe3-4c02bc09e28e",
   "metadata": {},
   "outputs": [
    {
     "data": {
      "text/plain": [
       "999"
      ]
     },
     "execution_count": 23,
     "metadata": {},
     "output_type": "execute_result"
    }
   ],
   "source": [
    "p1.set_cost(999)\n",
    "p1.show_cost()"
   ]
  },
  {
   "cell_type": "code",
   "execution_count": null,
   "id": "1bc5e3a0-8208-4dd9-8cf6-cf3494bb4390",
   "metadata": {},
   "outputs": [],
   "source": [
    "#Example of Constructor"
   ]
  },
  {
   "cell_type": "code",
   "execution_count": 9,
   "id": "5cbcfe25-936e-493e-9239-f32ccbc88238",
   "metadata": {},
   "outputs": [],
   "source": [
    "class Employee:\n",
    "    def __init__(self,name,age,salary,gender):\n",
    "        self.name = name\n",
    "        self.age = age\n",
    "        self.salary = salary\n",
    "        self.gender = gender\n",
    "\n",
    "    def show_employee_details(self):\n",
    "        print(\"Name of the Employee is\",self.name)\n",
    "        print(\"Age of the Employee is\",self.age)\n",
    "        print(\"Salary of the Employee is\",self.salary)\n",
    "        print(\"Gender of the Employee is\",self.gender)"
   ]
  },
  {
   "cell_type": "code",
   "execution_count": 12,
   "id": "9a96a702-1df7-474b-8acc-836e2697cc71",
   "metadata": {},
   "outputs": [
    {
     "name": "stdout",
     "output_type": "stream",
     "text": [
      "Name of the Employee is Sam\n",
      "Age of the Employee is 28\n",
      "Salary of the Employee is 8000\n",
      "Gender of the Employee is Male\n"
     ]
    }
   ],
   "source": [
    "e1 = Employee(\"Sam\",28,8000,\"Male\")\n",
    "e1.show_employee_details()"
   ]
  },
  {
   "cell_type": "code",
   "execution_count": null,
   "id": "e909d4c6-8eac-4f36-a1b7-adb1fd929ca2",
   "metadata": {},
   "outputs": [],
   "source": [
    "#Example of Inheritance"
   ]
  },
  {
   "cell_type": "code",
   "execution_count": 65,
   "id": "37cc92c4-9068-475b-8c19-e288dbd21738",
   "metadata": {},
   "outputs": [],
   "source": [
    "class Vehicle:\n",
    "    def __init__(self,milage,cost):\n",
    "        self.milage = milage\n",
    "        self.cost = cost\n",
    "\n",
    "    def show_vehicle_details(self):\n",
    "        print(\"I am a Helicoper\")\n",
    "        print(\"Milage is\",self.milage)\n",
    "        print(\"Cost is\",self.cost)\n",
    "        \n",
    "    "
   ]
  },
  {
   "cell_type": "code",
   "execution_count": null,
   "id": "f67d8177-2888-4401-ad6f-fdb57ad7f084",
   "metadata": {},
   "outputs": [],
   "source": []
  },
  {
   "cell_type": "code",
   "execution_count": 66,
   "id": "1cbf8f02-2dbc-43ea-9c1c-dd73260b2301",
   "metadata": {},
   "outputs": [],
   "source": [
    "#Lets create the child class"
   ]
  },
  {
   "cell_type": "code",
   "execution_count": 67,
   "id": "8f01e7d9-d1db-4fe3-8b4e-370604977918",
   "metadata": {},
   "outputs": [],
   "source": [
    "class Car(Vehicle):\n",
    "\n",
    "   def __init__(self,milage,cost,tyres,hp):\n",
    "       super().__init__(milage,cost)\n",
    "       self.tyres = tyres\n",
    "       self.hp = hp\n",
    "       \n",
    "   def show_car_details(self):\n",
    "    print(\"I am car\")\n",
    "    print(\"Number of tyres are\",self.tyres)\n",
    "    print(\"The horse power is\",self.hp)"
   ]
  },
  {
   "cell_type": "code",
   "execution_count": 68,
   "id": "7d3500a6-0eec-4b8c-8685-a96ff04dd8a7",
   "metadata": {},
   "outputs": [
    {
     "name": "stdout",
     "output_type": "stream",
     "text": [
      "I am car\n",
      "Number of tyres are 4\n",
      "The horse power is 8000\n"
     ]
    }
   ],
   "source": [
    "c1 = Car(98,99877,4,8000)\n",
    "c1.show_car_details()"
   ]
  },
  {
   "cell_type": "code",
   "execution_count": 70,
   "id": "7c06a6a1-04aa-4d65-b545-75461487fbb4",
   "metadata": {},
   "outputs": [
    {
     "name": "stdout",
     "output_type": "stream",
     "text": [
      "I am a Helicoper\n",
      "Milage is 98\n",
      "Cost is 99877\n"
     ]
    }
   ],
   "source": [
    "c1.show_vehicle_details()"
   ]
  },
  {
   "cell_type": "code",
   "execution_count": 71,
   "id": "327e6bb0-d487-4bd2-9d34-8cfecf64de5f",
   "metadata": {},
   "outputs": [],
   "source": [
    "#Example of Multiple Inheritance"
   ]
  },
  {
   "cell_type": "code",
   "execution_count": 72,
   "id": "1849d62e-0c01-4fbd-814d-c4be798a93df",
   "metadata": {},
   "outputs": [],
   "source": [
    "#First Parent class"
   ]
  },
  {
   "cell_type": "code",
   "execution_count": 88,
   "id": "4858840a-b96c-4e33-b460-b7db8a863eda",
   "metadata": {},
   "outputs": [],
   "source": [
    "class Parent1():\n",
    "    def assign_str_one(self,str1):\n",
    "        self.str1 = str1\n",
    "    def show_str_one(self):\n",
    "         return self.str1"
   ]
  },
  {
   "cell_type": "code",
   "execution_count": null,
   "id": "6d1ef7ed-7277-4712-bb83-1e804a0a7285",
   "metadata": {},
   "outputs": [],
   "source": [
    "#Second Parent class"
   ]
  },
  {
   "cell_type": "code",
   "execution_count": 89,
   "id": "3da2af5c-5e0e-4626-8a6c-aa18404c1f09",
   "metadata": {},
   "outputs": [],
   "source": [
    "class Parent2():\n",
    "     def assign_str_two(self,str2):\n",
    "        self.str2 = str2\n",
    "     def show_str_two(self):\n",
    "         return self.str2"
   ]
  },
  {
   "cell_type": "code",
   "execution_count": null,
   "id": "77be0c00-5520-409d-9d93-72e6249acf42",
   "metadata": {},
   "outputs": [],
   "source": [
    "#Child class"
   ]
  },
  {
   "cell_type": "code",
   "execution_count": 90,
   "id": "d82e6cdf-1a11-470a-808b-9151337346bd",
   "metadata": {},
   "outputs": [],
   "source": [
    "class Child(Parent1,Parent2):\n",
    "     def assign_str_three(self,str3):\n",
    "        self.str3 = str3\n",
    "     def show_str_three(self):\n",
    "         return self.str3"
   ]
  },
  {
   "cell_type": "code",
   "execution_count": 91,
   "id": "0d7bbdbc-4094-4726-a5e2-a62140b8295e",
   "metadata": {},
   "outputs": [],
   "source": [
    "c1 = Child()"
   ]
  },
  {
   "cell_type": "code",
   "execution_count": 92,
   "id": "b545f6b4-e521-4258-b1e1-7ac4ee238bd1",
   "metadata": {},
   "outputs": [],
   "source": [
    "c1.assign_str_one(\"one\")"
   ]
  },
  {
   "cell_type": "code",
   "execution_count": 93,
   "id": "b47cf353-763c-443e-b41b-508968bf21c8",
   "metadata": {},
   "outputs": [],
   "source": [
    "c1.assign_str_two(\"two\")"
   ]
  },
  {
   "cell_type": "code",
   "execution_count": 94,
   "id": "91bdf500-cba3-4365-9ff9-00b3208796f4",
   "metadata": {},
   "outputs": [],
   "source": [
    "c1.assign_str_three(\"three\")"
   ]
  },
  {
   "cell_type": "code",
   "execution_count": 95,
   "id": "93c9aeb7-560a-43a2-a4fc-75afa692c1ef",
   "metadata": {},
   "outputs": [
    {
     "data": {
      "text/plain": [
       "'one'"
      ]
     },
     "execution_count": 95,
     "metadata": {},
     "output_type": "execute_result"
    }
   ],
   "source": [
    "c1.show_str_one()"
   ]
  },
  {
   "cell_type": "code",
   "execution_count": 97,
   "id": "eb6d41e7-0c70-47eb-947a-25bfae13dc60",
   "metadata": {},
   "outputs": [
    {
     "data": {
      "text/plain": [
       "'two'"
      ]
     },
     "execution_count": 97,
     "metadata": {},
     "output_type": "execute_result"
    }
   ],
   "source": [
    "c1.show_str_two()"
   ]
  },
  {
   "cell_type": "code",
   "execution_count": 98,
   "id": "03e2ac7c-38fc-47d9-9385-31b1e03c330d",
   "metadata": {},
   "outputs": [
    {
     "data": {
      "text/plain": [
       "'three'"
      ]
     },
     "execution_count": 98,
     "metadata": {},
     "output_type": "execute_result"
    }
   ],
   "source": [
    "c1.show_str_three()"
   ]
  },
  {
   "cell_type": "code",
   "execution_count": 99,
   "id": "b9704273-764b-4102-be07-3b5e3919f26b",
   "metadata": {},
   "outputs": [],
   "source": [
    "#Multi-Level Inheritanceb"
   ]
  },
  {
   "cell_type": "code",
   "execution_count": 101,
   "id": "cad69046-e18e-4c35-a367-6020fbf8eb5d",
   "metadata": {},
   "outputs": [],
   "source": [
    "class Parent():\n",
    "    def assign_name(self,name):\n",
    "        self.name = name\n",
    "\n",
    "    def show_name(self):\n",
    "        return self.name\n"
   ]
  },
  {
   "cell_type": "code",
   "execution_count": 103,
   "id": "e770a03f-702d-4c32-aca2-296d59d2b4dd",
   "metadata": {},
   "outputs": [],
   "source": [
    "class Child(Parent):\n",
    "    def assign_name(self,age):\n",
    "        self.age = age\n",
    "\n",
    "    def show_age(self):\n",
    "        return self.age\n"
   ]
  },
  {
   "cell_type": "code",
   "execution_count": 104,
   "id": "6db9d1e3-7ad5-42d6-8c28-dd5ce93c3569",
   "metadata": {},
   "outputs": [],
   "source": [
    "class GrandChild(Child):\n",
    "    def assign_name(self,gender):\n",
    "        self.gender = gender\n",
    "\n",
    "    def show_gender(self):\n",
    "        return self.gender\n"
   ]
  },
  {
   "cell_type": "code",
   "execution_count": 105,
   "id": "a268cd43-68ee-4304-9099-8c22770c8f9a",
   "metadata": {},
   "outputs": [],
   "source": [
    "gc = GrandChild()"
   ]
  },
  {
   "cell_type": "code",
   "execution_count": 106,
   "id": "fd15394b-6e4f-46d0-ac63-7e232be2a629",
   "metadata": {},
   "outputs": [],
   "source": [
    "gc.assign_name(\"Bob\")\n",
    "               "
   ]
  },
  {
   "cell_type": "code",
   "execution_count": 107,
   "id": "400a9cca-fe46-416a-b188-19e4719bbf9a",
   "metadata": {},
   "outputs": [
    {
     "ename": "AttributeError",
     "evalue": "'GrandChild' object has no attribute 'assign_age'",
     "output_type": "error",
     "traceback": [
      "\u001b[1;31m---------------------------------------------------------------------------\u001b[0m",
      "\u001b[1;31mAttributeError\u001b[0m                            Traceback (most recent call last)",
      "Cell \u001b[1;32mIn[107], line 1\u001b[0m\n\u001b[1;32m----> 1\u001b[0m gc\u001b[38;5;241m.\u001b[39massign_age(\u001b[38;5;241m90\u001b[39m)\n",
      "\u001b[1;31mAttributeError\u001b[0m: 'GrandChild' object has no attribute 'assign_age'"
     ]
    }
   ],
   "source": [
    "gc.assign_age(90)"
   ]
  },
  {
   "cell_type": "code",
   "execution_count": null,
   "id": "ff2f05fc-1682-46a3-9afd-51a25b9ab055",
   "metadata": {},
   "outputs": [],
   "source": []
  }
 ],
 "metadata": {
  "kernelspec": {
   "display_name": "Python 3 (ipykernel)",
   "language": "python",
   "name": "python3"
  },
  "language_info": {
   "codemirror_mode": {
    "name": "ipython",
    "version": 3
   },
   "file_extension": ".py",
   "mimetype": "text/x-python",
   "name": "python",
   "nbconvert_exporter": "python",
   "pygments_lexer": "ipython3",
   "version": "3.12.4"
  }
 },
 "nbformat": 4,
 "nbformat_minor": 5
}
